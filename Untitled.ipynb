{
 "cells": [
  {
   "cell_type": "code",
   "execution_count": 1,
   "id": "4e665d23-2105-48b1-997b-82ae0acb5c3d",
   "metadata": {},
   "outputs": [],
   "source": [
    "d={}"
   ]
  },
  {
   "cell_type": "code",
   "execution_count": 2,
   "id": "81305c99-8e79-4931-a85f-57af5feb8096",
   "metadata": {},
   "outputs": [
    {
     "data": {
      "text/plain": [
       "dict"
      ]
     },
     "execution_count": 2,
     "metadata": {},
     "output_type": "execute_result"
    }
   ],
   "source": [
    "type(d)\n"
   ]
  },
  {
   "cell_type": "code",
   "execution_count": 3,
   "id": "74866ba7-76b4-47b1-8075-b85070daeca0",
   "metadata": {},
   "outputs": [],
   "source": [
    "d1={\"key\":\"Rishi\"}\n"
   ]
  },
  {
   "cell_type": "code",
   "execution_count": 4,
   "id": "03fef3d4-162a-4c56-84dc-581c13c252e2",
   "metadata": {},
   "outputs": [
    {
     "data": {
      "text/plain": [
       "{'key': 'Rishi'}"
      ]
     },
     "execution_count": 4,
     "metadata": {},
     "output_type": "execute_result"
    }
   ],
   "source": [
    "d1\n"
   ]
  },
  {
   "cell_type": "code",
   "execution_count": 5,
   "id": "f61711a9-a571-4728-bff3-faa537aabbba",
   "metadata": {},
   "outputs": [],
   "source": [
    "d2={'Name':\"Rishi\",\"email\":'Rishi@gmail.com'}"
   ]
  },
  {
   "cell_type": "code",
   "execution_count": 6,
   "id": "e944726f-299a-43ad-a54a-d221d76b2749",
   "metadata": {},
   "outputs": [
    {
     "data": {
      "text/plain": [
       "{'Name': 'Rishi', 'email': 'Rishi@gmail.com'}"
      ]
     },
     "execution_count": 6,
     "metadata": {},
     "output_type": "execute_result"
    }
   ],
   "source": [
    "d2\n"
   ]
  },
  {
   "cell_type": "code",
   "execution_count": 7,
   "id": "7644b29d-1027-43c6-b290-ea1a5845be67",
   "metadata": {},
   "outputs": [
    {
     "ename": "SyntaxError",
     "evalue": "invalid syntax (953264690.py, line 1)",
     "output_type": "error",
     "traceback": [
      "\u001b[0;36m  Cell \u001b[0;32mIn[7], line 1\u001b[0;36m\u001b[0m\n\u001b[0;31m    d3={238:\"Ljklf\",'kflslf':'JKLjlk',@jggj:\"fjkfhkj\"}\u001b[0m\n\u001b[0m                                      ^\u001b[0m\n\u001b[0;31mSyntaxError\u001b[0m\u001b[0;31m:\u001b[0m invalid syntax\n"
     ]
    }
   ],
   "source": [
    "d3={238:\"Ljklf\",'kflslf':'JKLjlk',@jggj:\"fjkfhkj\"}\n"
   ]
  },
  {
   "cell_type": "code",
   "execution_count": 8,
   "id": "d9de10eb-7e45-4218-a8ce-3d3ab5c14bef",
   "metadata": {},
   "outputs": [],
   "source": [
    "d3={238:\"Ljklf\",'kflslf':'JKLjlk',True\n",
    "    :\"fjkfhkj\"}\n"
   ]
  },
  {
   "cell_type": "code",
   "execution_count": 9,
   "id": "9c9b4b90-6917-49c9-9278-d83b20260310",
   "metadata": {},
   "outputs": [
    {
     "data": {
      "text/plain": [
       "{238: 'Ljklf', 'kflslf': 'JKLjlk', True: 'fjkfhkj'}"
      ]
     },
     "execution_count": 9,
     "metadata": {},
     "output_type": "execute_result"
    }
   ],
   "source": [
    "d3"
   ]
  },
  {
   "cell_type": "code",
   "execution_count": 10,
   "id": "aab88172-d2b1-41f2-984c-d754cb2c2bf6",
   "metadata": {},
   "outputs": [
    {
     "data": {
      "text/plain": [
       "'Ljklf'"
      ]
     },
     "execution_count": 10,
     "metadata": {},
     "output_type": "execute_result"
    }
   ],
   "source": [
    "d3[238]"
   ]
  },
  {
   "cell_type": "code",
   "execution_count": 11,
   "id": "5399b95e-5bd8-4ac5-89bc-2d744fb21523",
   "metadata": {},
   "outputs": [
    {
     "data": {
      "text/plain": [
       "'fjkfhkj'"
      ]
     },
     "execution_count": 11,
     "metadata": {},
     "output_type": "execute_result"
    }
   ],
   "source": [
    "d3[True]"
   ]
  },
  {
   "cell_type": "code",
   "execution_count": 12,
   "id": "621912ee-9821-48f9-ba27-c83eb67db610",
   "metadata": {},
   "outputs": [
    {
     "data": {
      "text/plain": [
       "'fjkfhkj'"
      ]
     },
     "execution_count": 12,
     "metadata": {},
     "output_type": "execute_result"
    }
   ],
   "source": [
    "d3[1\n",
    "  ]"
   ]
  },
  {
   "cell_type": "code",
   "execution_count": 13,
   "id": "69dff692-8fe3-479c-a9f9-f7948fec841f",
   "metadata": {},
   "outputs": [
    {
     "ename": "KeyError",
     "evalue": "2",
     "output_type": "error",
     "traceback": [
      "\u001b[0;31m---------------------------------------------------------------------------\u001b[0m",
      "\u001b[0;31mKeyError\u001b[0m                                  Traceback (most recent call last)",
      "Cell \u001b[0;32mIn[13], line 1\u001b[0m\n\u001b[0;32m----> 1\u001b[0m \u001b[43md3\u001b[49m\u001b[43m[\u001b[49m\u001b[38;5;241;43m2\u001b[39;49m\n\u001b[1;32m      2\u001b[0m \u001b[43m  \u001b[49m\n\u001b[1;32m      3\u001b[0m \u001b[43m  \u001b[49m\u001b[43m]\u001b[49m\n",
      "\u001b[0;31mKeyError\u001b[0m: 2"
     ]
    }
   ],
   "source": [
    "d3[2\n",
    "  \n",
    "  ]"
   ]
  },
  {
   "cell_type": "code",
   "execution_count": 14,
   "id": "2e811c90-bb03-4f08-b377-4ad5e71b60e5",
   "metadata": {},
   "outputs": [],
   "source": [
    "d4={'Name':\"Rishi\",\"email\":'Rishi@gmail.com','Name':'Ragini'}"
   ]
  },
  {
   "cell_type": "code",
   "execution_count": 15,
   "id": "349ee162-6df9-4f61-bdf6-7e54302c8b0f",
   "metadata": {},
   "outputs": [
    {
     "ename": "KeyError",
     "evalue": "'name'",
     "output_type": "error",
     "traceback": [
      "\u001b[0;31m---------------------------------------------------------------------------\u001b[0m",
      "\u001b[0;31mKeyError\u001b[0m                                  Traceback (most recent call last)",
      "Cell \u001b[0;32mIn[15], line 1\u001b[0m\n\u001b[0;32m----> 1\u001b[0m \u001b[43md4\u001b[49m\u001b[43m[\u001b[49m\u001b[38;5;124;43m'\u001b[39;49m\u001b[38;5;124;43mname\u001b[39;49m\u001b[38;5;124;43m'\u001b[39;49m\u001b[43m]\u001b[49m\n",
      "\u001b[0;31mKeyError\u001b[0m: 'name'"
     ]
    }
   ],
   "source": [
    "d4['name']"
   ]
  },
  {
   "cell_type": "code",
   "execution_count": 16,
   "id": "7129146c-ac09-47a2-90e9-a614d9d2fda1",
   "metadata": {},
   "outputs": [
    {
     "data": {
      "text/plain": [
       "'Ragini'"
      ]
     },
     "execution_count": 16,
     "metadata": {},
     "output_type": "execute_result"
    }
   ],
   "source": [
    "d4['Name']\n"
   ]
  },
  {
   "cell_type": "code",
   "execution_count": 17,
   "id": "70c2ab70-e443-4dd7-b613-36a3fb66a7e9",
   "metadata": {},
   "outputs": [],
   "source": [
    "d5={\"company\":\"pwsills\",\"course\":[\"web dev\",\"data science\",\"java with dsa \"]}\n"
   ]
  },
  {
   "cell_type": "code",
   "execution_count": 18,
   "id": "49982de2-c4fd-44c1-9533-bd7159a1371b",
   "metadata": {},
   "outputs": [
    {
     "data": {
      "text/plain": [
       "'java with dsa '"
      ]
     },
     "execution_count": 18,
     "metadata": {},
     "output_type": "execute_result"
    }
   ],
   "source": [
    "d5['course'][2]"
   ]
  },
  {
   "cell_type": "code",
   "execution_count": 19,
   "id": "d7302073-3a8f-4fb6-a4cc-17bb07d364f3",
   "metadata": {},
   "outputs": [],
   "source": [
    "d6={'number':[2,45,67,23,1,23,78],\"assignment\":(1,3,4,565,5,6,6),\"launch date\":{28,12,14}}"
   ]
  },
  {
   "cell_type": "code",
   "execution_count": 20,
   "id": "21812a69-f02b-4bba-a385-5614e71fccc7",
   "metadata": {},
   "outputs": [
    {
     "data": {
      "text/plain": [
       "{'number': [2, 45, 67, 23, 1, 23, 78],\n",
       " 'assignment': (1, 3, 4, 565, 5, 6, 6),\n",
       " 'launch date': {12, 14, 28}}"
      ]
     },
     "execution_count": 20,
     "metadata": {},
     "output_type": "execute_result"
    }
   ],
   "source": [
    "d6"
   ]
  },
  {
   "cell_type": "code",
   "execution_count": 21,
   "id": "1b76f392-8629-4657-bae6-12d549015974",
   "metadata": {},
   "outputs": [
    {
     "name": "stdout",
     "output_type": "stream",
     "text": [
      "Object `you` not found.\n"
     ]
    }
   ],
   "source": [
    "hi how are you man i am rishi raj who are you?\n",
    "\n",
    "\n"
   ]
  },
  {
   "cell_type": "code",
   "execution_count": 22,
   "id": "d1f9564c-f3fb-4d29-b137-2b53914d9b39",
   "metadata": {},
   "outputs": [],
   "source": [
    "d6={'number':[2,45,67,23,1,23,78],\"assignment\":(1,3,4,565,5,6,6),\"launch date\":{28,12,14},\"class_time\":{\"web dev\":8,\"java with dsa\":10}}"
   ]
  },
  {
   "cell_type": "code",
   "execution_count": 23,
   "id": "afd91644-e912-42a6-bb2c-45a703610967",
   "metadata": {},
   "outputs": [
    {
     "data": {
      "text/plain": [
       "{'number': [2, 45, 67, 23, 1, 23, 78],\n",
       " 'assignment': (1, 3, 4, 565, 5, 6, 6),\n",
       " 'launch date': {12, 14, 28},\n",
       " 'class_time': {'web dev': 8, 'java with dsa': 10}}"
      ]
     },
     "execution_count": 23,
     "metadata": {},
     "output_type": "execute_result"
    }
   ],
   "source": [
    "d6\n",
    "\n"
   ]
  },
  {
   "cell_type": "code",
   "execution_count": 24,
   "id": "262f174c-032f-47ad-93f4-ab1d2a3eb550",
   "metadata": {},
   "outputs": [
    {
     "ename": "NameError",
     "evalue": "name 'class_time' is not defined",
     "output_type": "error",
     "traceback": [
      "\u001b[0;31m---------------------------------------------------------------------------\u001b[0m",
      "\u001b[0;31mNameError\u001b[0m                                 Traceback (most recent call last)",
      "Cell \u001b[0;32mIn[24], line 1\u001b[0m\n\u001b[0;32m----> 1\u001b[0m d6[\u001b[43mclass_time\u001b[49m]\n",
      "\u001b[0;31mNameError\u001b[0m: name 'class_time' is not defined"
     ]
    }
   ],
   "source": [
    "d6[class_time]"
   ]
  },
  {
   "cell_type": "code",
   "execution_count": 25,
   "id": "370982f8-110f-441c-ba6e-90f7b0520e99",
   "metadata": {},
   "outputs": [
    {
     "data": {
      "text/plain": [
       "{'web dev': 8, 'java with dsa': 10}"
      ]
     },
     "execution_count": 25,
     "metadata": {},
     "output_type": "execute_result"
    }
   ],
   "source": [
    "d6['class_time']"
   ]
  },
  {
   "cell_type": "code",
   "execution_count": 26,
   "id": "c130d02e-6f58-4305-893e-8ce2b0d43dc9",
   "metadata": {},
   "outputs": [
    {
     "data": {
      "text/plain": [
       "10"
      ]
     },
     "execution_count": 26,
     "metadata": {},
     "output_type": "execute_result"
    }
   ],
   "source": [
    "d6['class_time']['java with dsa']"
   ]
  },
  {
   "cell_type": "code",
   "execution_count": 29,
   "id": "62955f34-8bb0-48ff-bce6-2c228d786a6b",
   "metadata": {},
   "outputs": [],
   "source": [
    "d6['mentor']=[\"sudhanshu\",\"krish\",\"anurag\",\"hyder\"]"
   ]
  },
  {
   "cell_type": "code",
   "execution_count": 30,
   "id": "da94b3b1-27d3-4e26-8b9d-5299a0450bc3",
   "metadata": {},
   "outputs": [
    {
     "data": {
      "text/plain": [
       "{'number': [2, 45, 67, 23, 1, 23, 78],\n",
       " 'assignment': (1, 3, 4, 565, 5, 6, 6),\n",
       " 'launch date': {12, 14, 28},\n",
       " 'class_time': {'web dev': 8, 'java with dsa': 10},\n",
       " 'mentoer': ['sudhanshu', 'krish', 'anurag', 'hyder'],\n",
       " 'mentor': ['sudhanshu', 'krish', 'anurag', 'hyder']}"
      ]
     },
     "execution_count": 30,
     "metadata": {},
     "output_type": "execute_result"
    }
   ],
   "source": [
    "d6"
   ]
  },
  {
   "cell_type": "code",
   "execution_count": 31,
   "id": "ba11ea57-ee78-4b9d-90b6-cce52ad4de78",
   "metadata": {},
   "outputs": [
    {
     "ename": "TypeError",
     "evalue": "dict.popitem() takes no arguments (1 given)",
     "output_type": "error",
     "traceback": [
      "\u001b[0;31m---------------------------------------------------------------------------\u001b[0m",
      "\u001b[0;31mTypeError\u001b[0m                                 Traceback (most recent call last)",
      "Cell \u001b[0;32mIn[31], line 1\u001b[0m\n\u001b[0;32m----> 1\u001b[0m \u001b[43md6\u001b[49m\u001b[38;5;241;43m.\u001b[39;49m\u001b[43mpopitem\u001b[49m\u001b[43m(\u001b[49m\u001b[38;5;124;43m'\u001b[39;49m\u001b[38;5;124;43mmentoer\u001b[39;49m\u001b[38;5;124;43m'\u001b[39;49m\u001b[43m)\u001b[49m\n",
      "\u001b[0;31mTypeError\u001b[0m: dict.popitem() takes no arguments (1 given)"
     ]
    }
   ],
   "source": [
    "d6.popitem('mentoer')"
   ]
  },
  {
   "cell_type": "code",
   "execution_count": 32,
   "id": "e1419327-27c5-40ef-b139-7a155d60e7d9",
   "metadata": {},
   "outputs": [],
   "source": [
    "del d6[\"mentoer\"]"
   ]
  },
  {
   "cell_type": "code",
   "execution_count": 33,
   "id": "f09759ad-a1e7-4d43-a5d9-ac9c128d8616",
   "metadata": {},
   "outputs": [
    {
     "data": {
      "text/plain": [
       "{'number': [2, 45, 67, 23, 1, 23, 78],\n",
       " 'assignment': (1, 3, 4, 565, 5, 6, 6),\n",
       " 'launch date': {12, 14, 28},\n",
       " 'class_time': {'web dev': 8, 'java with dsa': 10},\n",
       " 'mentor': ['sudhanshu', 'krish', 'anurag', 'hyder']}"
      ]
     },
     "execution_count": 33,
     "metadata": {},
     "output_type": "execute_result"
    }
   ],
   "source": [
    "d6"
   ]
  },
  {
   "cell_type": "code",
   "execution_count": 34,
   "id": "3e7f039c-0c46-43d4-8ab2-3c4e38353348",
   "metadata": {},
   "outputs": [
    {
     "data": {
      "text/plain": [
       "['number', 'assignment', 'launch date', 'class_time', 'mentor']"
      ]
     },
     "execution_count": 34,
     "metadata": {},
     "output_type": "execute_result"
    }
   ],
   "source": [
    "list(d6.keys())\n"
   ]
  },
  {
   "cell_type": "code",
   "execution_count": 35,
   "id": "c3129a4a-13fb-454d-b476-444d51f554cd",
   "metadata": {},
   "outputs": [
    {
     "data": {
      "text/plain": [
       "[[2, 45, 67, 23, 1, 23, 78],\n",
       " (1, 3, 4, 565, 5, 6, 6),\n",
       " {12, 14, 28},\n",
       " {'web dev': 8, 'java with dsa': 10},\n",
       " ['sudhanshu', 'krish', 'anurag', 'hyder']]"
      ]
     },
     "execution_count": 35,
     "metadata": {},
     "output_type": "execute_result"
    }
   ],
   "source": [
    "list(d6.values())\n"
   ]
  },
  {
   "cell_type": "code",
   "execution_count": 36,
   "id": "29d26ce6-a4a9-4c8a-8b25-efe08edc84d8",
   "metadata": {},
   "outputs": [
    {
     "data": {
      "text/plain": [
       "dict_items([('number', [2, 45, 67, 23, 1, 23, 78]), ('assignment', (1, 3, 4, 565, 5, 6, 6)), ('launch date', {28, 12, 14}), ('class_time', {'web dev': 8, 'java with dsa': 10}), ('mentor', ['sudhanshu', 'krish', 'anurag', 'hyder'])])"
      ]
     },
     "execution_count": 36,
     "metadata": {},
     "output_type": "execute_result"
    }
   ],
   "source": [
    "d6.items()"
   ]
  },
  {
   "cell_type": "code",
   "execution_count": 37,
   "id": "7212c3a0-b6b9-45aa-a2f7-943a224fe1d3",
   "metadata": {},
   "outputs": [
    {
     "data": {
      "text/plain": [
       "(1, 3, 4, 565, 5, 6, 6)"
      ]
     },
     "execution_count": 37,
     "metadata": {},
     "output_type": "execute_result"
    }
   ],
   "source": [
    "d6.pop('assignment')"
   ]
  },
  {
   "cell_type": "code",
   "execution_count": 38,
   "id": "3319eedd-d851-4b5e-b355-a556b52441c6",
   "metadata": {},
   "outputs": [
    {
     "data": {
      "text/plain": [
       "{'number': [2, 45, 67, 23, 1, 23, 78],\n",
       " 'launch date': {12, 14, 28},\n",
       " 'class_time': {'web dev': 8, 'java with dsa': 10},\n",
       " 'mentor': ['sudhanshu', 'krish', 'anurag', 'hyder']}"
      ]
     },
     "execution_count": 38,
     "metadata": {},
     "output_type": "execute_result"
    }
   ],
   "source": [
    "d6"
   ]
  },
  {
   "cell_type": "code",
   "execution_count": 41,
   "id": "d804e23a-ae1d-45df-abfa-f94be05868b9",
   "metadata": {},
   "outputs": [
    {
     "ename": "TypeError",
     "evalue": "pop expected at least 1 argument, got 0",
     "output_type": "error",
     "traceback": [
      "\u001b[0;31m---------------------------------------------------------------------------\u001b[0m",
      "\u001b[0;31mTypeError\u001b[0m                                 Traceback (most recent call last)",
      "Cell \u001b[0;32mIn[41], line 1\u001b[0m\n\u001b[0;32m----> 1\u001b[0m \u001b[43md6\u001b[49m\u001b[38;5;241;43m.\u001b[39;49m\u001b[43mpop\u001b[49m\u001b[43m(\u001b[49m\u001b[43m)\u001b[49m\n\u001b[1;32m      2\u001b[0m marks\u001b[38;5;241m=\u001b[39m\u001b[38;5;241m89\u001b[39m;\n",
      "\u001b[0;31mTypeError\u001b[0m: pop expected at least 1 argument, got 0"
     ]
    }
   ],
   "source": [
    "d6.pop()\n",
    "marks=89;\n"
   ]
  },
  {
   "cell_type": "code",
   "execution_count": 45,
   "id": "4b9564eb-6104-4d4f-9fde-ffc851ae92da",
   "metadata": {},
   "outputs": [
    {
     "ename": "SyntaxError",
     "evalue": "incomplete input (803600618.py, line 6)",
     "output_type": "error",
     "traceback": [
      "\u001b[0;36m  Cell \u001b[0;32mIn[45], line 6\u001b[0;36m\u001b[0m\n\u001b[0;31m    elif marks>=40 and marks<60:\u001b[0m\n\u001b[0m                                ^\u001b[0m\n\u001b[0;31mSyntaxError\u001b[0m\u001b[0;31m:\u001b[0m incomplete input\n"
     ]
    }
   ],
   "source": [
    "marks=89;\n",
    "if marks>=80:\n",
    "    print(\"You will be part of A0 batch\")\n",
    "elif marks>=60 and marks<=80:\n",
    "    print(\"you will be a part of A1 batch\")\n",
    "elif marks>=40 and marks<60:\n",
    "    print(\"You will be part of A2 ba\")"
   ]
  },
  {
   "cell_type": "code",
   "execution_count": 6,
   "id": "85564366-55f8-4e33-a14b-24638c1599d3",
   "metadata": {},
   "outputs": [],
   "source": [
    "l=[2,4,6,7,8,9,0]\n",
    "\n"
   ]
  },
  {
   "cell_type": "code",
   "execution_count": 8,
   "id": "845d7070-16bf-48db-9ce2-6d3245b06d08",
   "metadata": {},
   "outputs": [],
   "source": [
    "l1=[]\n",
    "for i in l:\n",
    "    l1.append(i+1)\n",
    "    "
   ]
  },
  {
   "cell_type": "code",
   "execution_count": 3,
   "id": "cbc479c8-0dee-4011-8184-d94fa0c78d13",
   "metadata": {},
   "outputs": [
    {
     "name": "stdout",
     "output_type": "stream",
     "text": [
      "0\n",
      "1\n",
      "2\n",
      "3\n",
      "4\n",
      "5\n",
      "6\n",
      "7\n"
     ]
    }
   ],
   "source": [
    "for i in range(0,8):\n",
    "    print(i)"
   ]
  },
  {
   "cell_type": "code",
   "execution_count": 4,
   "id": "16a43582-1c0b-48b1-b0ae-a1e515a455bb",
   "metadata": {},
   "outputs": [
    {
     "name": "stdout",
     "output_type": "stream",
     "text": [
      "0\n",
      "1\n",
      "2\n",
      "3\n",
      "4\n",
      "5\n",
      "6\n",
      "7\n",
      "8\n",
      "9\n"
     ]
    }
   ],
   "source": [
    "for i in range(10):\n",
    "    print(i)"
   ]
  },
  {
   "cell_type": "code",
   "execution_count": 5,
   "id": "357029c8-53f8-4e1c-a72d-4766646ef6ab",
   "metadata": {},
   "outputs": [
    {
     "name": "stdout",
     "output_type": "stream",
     "text": [
      "2\n",
      "3\n",
      "4\n",
      "5\n",
      "6\n",
      "7\n",
      "8\n",
      "9\n"
     ]
    }
   ],
   "source": [
    "for i in range(0,8):\n",
    "    print(i+2)"
   ]
  },
  {
   "cell_type": "code",
   "execution_count": 9,
   "id": "0b203213-1a88-425b-bc81-a49def987a62",
   "metadata": {},
   "outputs": [
    {
     "data": {
      "text/plain": [
       "[3, 5, 7, 8, 9, 10, 1]"
      ]
     },
     "execution_count": 9,
     "metadata": {},
     "output_type": "execute_result"
    }
   ],
   "source": [
    "l1\n"
   ]
  },
  {
   "cell_type": "code",
   "execution_count": 10,
   "id": "28c4d8a5-a62e-48e1-93d4-edcd5061dc4f",
   "metadata": {},
   "outputs": [
    {
     "data": {
      "text/plain": [
       "[2, 4, 6, 7, 8, 9, 0]"
      ]
     },
     "execution_count": 10,
     "metadata": {},
     "output_type": "execute_result"
    }
   ],
   "source": [
    "l"
   ]
  },
  {
   "cell_type": "code",
   "execution_count": 11,
   "id": "c47056e4-3294-4e4b-b381-6106df400119",
   "metadata": {},
   "outputs": [],
   "source": [
    "l=[\"Rishi\",\"ghijhgkjhr\",\"hvdjhdkj\",\"fhjhdkfj\"]"
   ]
  },
  {
   "cell_type": "code",
   "execution_count": 12,
   "id": "09678d08-b745-4fe0-93ab-8a7a4963022f",
   "metadata": {},
   "outputs": [
    {
     "name": "stdout",
     "output_type": "stream",
     "text": [
      "Rishi\n",
      "ghijhgkjhr\n",
      "hvdjhdkj\n",
      "fhjhdkfj\n"
     ]
    }
   ],
   "source": [
    "for i in l:\n",
    "    print(i)"
   ]
  },
  {
   "cell_type": "code",
   "execution_count": 13,
   "id": "a42fe60b-ef6b-4d99-9b49-974ae2c7085c",
   "metadata": {},
   "outputs": [],
   "source": [
    "l1=[]\n",
    "for i in l:\n",
    "    l1.append(i.upper())\n",
    "    \n",
    "    "
   ]
  },
  {
   "cell_type": "code",
   "execution_count": 14,
   "id": "e2e8a86d-a363-431e-8f55-e116a1523550",
   "metadata": {},
   "outputs": [
    {
     "data": {
      "text/plain": [
       "['RISHI', 'GHIJHGKJHR', 'HVDJHDKJ', 'FHJHDKFJ']"
      ]
     },
     "execution_count": 14,
     "metadata": {},
     "output_type": "execute_result"
    }
   ],
   "source": [
    "l1"
   ]
  },
  {
   "cell_type": "code",
   "execution_count": 16,
   "id": "46fb09d2-33a2-4aa9-ae68-78ebfb9ee7dc",
   "metadata": {},
   "outputs": [],
   "source": [
    "l=[1,3,5,6,\"Rishi\",3,56,6,6,6,\"Raj\"]\n",
    "\n"
   ]
  },
  {
   "cell_type": "code",
   "execution_count": 17,
   "id": "9a350182-a14a-4c2f-8bcc-da10b5360609",
   "metadata": {},
   "outputs": [
    {
     "data": {
      "text/plain": [
       "[1, 3, 5, 6, 'Rishi', 3, 56, 6, 6, 6, 'Raj']"
      ]
     },
     "execution_count": 17,
     "metadata": {},
     "output_type": "execute_result"
    }
   ],
   "source": [
    "l"
   ]
  },
  {
   "cell_type": "code",
   "execution_count": 18,
   "id": "88d65072-a4ab-4db0-b599-b5414cd2dfa3",
   "metadata": {},
   "outputs": [],
   "source": [
    "l1_num=[]\n",
    "l2_str=[]\n",
    "for i in l:\n",
    "    if type(i)==int or type(i)==float:\n",
    "        l1_num.append(i)\n",
    "    else:\n",
    "        l2_str.append(i)"
   ]
  },
  {
   "cell_type": "code",
   "execution_count": null,
   "id": "453e0227-fda2-41e9-be34-a877aed6655a",
   "metadata": {},
   "outputs": [],
   "source": []
  }
 ],
 "metadata": {
  "kernelspec": {
   "display_name": "Python 3 (ipykernel)",
   "language": "python",
   "name": "python3"
  },
  "language_info": {
   "codemirror_mode": {
    "name": "ipython",
    "version": 3
   },
   "file_extension": ".py",
   "mimetype": "text/x-python",
   "name": "python",
   "nbconvert_exporter": "python",
   "pygments_lexer": "ipython3",
   "version": "3.10.8"
  }
 },
 "nbformat": 4,
 "nbformat_minor": 5
}
